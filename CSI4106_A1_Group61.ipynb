{
 "cells": [
  {
   "cell_type": "markdown",
   "metadata": {
    "id": "SPeulvp-meob"
   },
   "source": [
    "**ASSIGNMENT 1 - EMPIRICAL STUDY OF KNAPSACK PROBLEM**"
   ]
  },
  {
   "cell_type": "markdown",
   "metadata": {
    "id": "f2Eeke4Z_EkW"
   },
   "source": [
    "**1. Group Description**\n",
    "\n",
    "Group Number: 61\n",
    "\n",
    "Member Names: Owen Jory\n",
    "\n",
    "Member Student Numbers: 300168367"
   ]
  },
  {
   "cell_type": "markdown",
   "metadata": {
    "id": "Yq6OGiMX_da0"
   },
   "source": [
    "**2. Knapsack Problem**\n",
    "\n",
    "Give a description of the problem tackled."
   ]
  },
  {
   "cell_type": "markdown",
   "metadata": {
    "id": "C8vwHE0G_iOG"
   },
   "source": [
    "**3. Dataset**\n",
    "\n",
    "Give a description of the dataset used with references.  "
   ]
  },
  {
   "cell_type": "markdown",
   "metadata": {
    "id": "OZTWy1qN2BzY"
   },
   "source": [
    "**Import important libraries**"
   ]
  },
  {
   "cell_type": "code",
   "execution_count": 1,
   "metadata": {
    "id": "GmP1buROhaOx"
   },
   "outputs": [],
   "source": [
    "import pandas as pd\n",
    "import itertools\n",
    "import numpy as np"
   ]
  },
  {
   "cell_type": "markdown",
   "metadata": {
    "id": "wNJyoeCz00Kr"
   },
   "source": [
    "**Read Dataset**\n",
    "\n",
    "As outlined in the project description, it should be possible for the correctors to execute your notebook without requiring any downloads.\n",
    "\n",
    "To facilitate access to the dataset without the need for downloads, you can upload it to a public GitHub repository and provide a link to the raw version of the dataset.\n",
    "\n",
    "The link to the raw version is as follows:\n",
    "*https://raw.githubusercontent.com/GITHUB_USERNAME/REPOSITORY_NAME/main/DATASETNAME.csv*\n",
    "\n",
    "For example:\n",
    "\n",
    "https://raw.githubusercontent.com/baharin/KnapsackProblem/main/knapsack_5_items.csv\n",
    "\n",
    "Now provide the link to YOUR dataset and read the dataset using pandas:"
   ]
  },
  {
   "cell_type": "code",
   "execution_count": 2,
   "metadata": {
    "id": "BrhpM-HwhaOy"
   },
   "outputs": [],
   "source": [
    "# personally, I prefer to avoid unnecessarily tethering my programs to the internet, so I'll just link a file rather than github. I hope thats okay :)\n",
    "url = \"https://raw.githubusercontent.com/SmolTortol/KnapsackProblem/main/knapsack_5_items.csv?token=GHSAT0AAAAAACIIOJSJ3PHCLHXWS45BDOQCZIYGQJA\"\n",
    "\n",
    "dataset = pd.read_csv(url)"
   ]
  },
  {
   "cell_type": "markdown",
   "metadata": {
    "id": "4Drc71BY2a7w"
   },
   "source": [
    "Let's see what are the columns of the dataset? :"
   ]
  },
  {
   "cell_type": "code",
   "execution_count": 3,
   "metadata": {
    "colab": {
     "base_uri": "https://localhost:8080/"
    },
    "id": "pGxZXmhNhaOz",
    "outputId": "09bb8058-957c-4aae-fe50-de83e5a3b424"
   },
   "outputs": [
    {
     "data": {
      "text/plain": [
       "Index(['Weights', 'Prices', 'Capacity', 'Best picks', 'Best price'], dtype='object')"
      ]
     },
     "execution_count": 3,
     "metadata": {},
     "output_type": "execute_result"
    }
   ],
   "source": [
    "dataset.columns"
   ]
  },
  {
   "cell_type": "markdown",
   "metadata": {
    "id": "aNZaqcCT2w-T"
   },
   "source": [
    "As we expected, we have columns for weights, costs, capacity, best picks and best price for all the instances."
   ]
  },
  {
   "cell_type": "markdown",
   "metadata": {
    "id": "jkokOHRj2kgZ"
   },
   "source": [
    "Now let's see the first 10 entries (rows):"
   ]
  },
  {
   "cell_type": "code",
   "execution_count": 4,
   "metadata": {
    "colab": {
     "base_uri": "https://localhost:8080/",
     "height": 363
    },
    "id": "0xqfPrBEhaOz",
    "outputId": "4376de03-1214-492f-ba5e-304f9f0f1129"
   },
   "outputs": [
    {
     "data": {
      "text/html": [
       "<div>\n",
       "<style scoped>\n",
       "    .dataframe tbody tr th:only-of-type {\n",
       "        vertical-align: middle;\n",
       "    }\n",
       "\n",
       "    .dataframe tbody tr th {\n",
       "        vertical-align: top;\n",
       "    }\n",
       "\n",
       "    .dataframe thead th {\n",
       "        text-align: right;\n",
       "    }\n",
       "</style>\n",
       "<table border=\"1\" class=\"dataframe\">\n",
       "  <thead>\n",
       "    <tr style=\"text-align: right;\">\n",
       "      <th></th>\n",
       "      <th>Weights</th>\n",
       "      <th>Prices</th>\n",
       "      <th>Capacity</th>\n",
       "      <th>Best picks</th>\n",
       "      <th>Best price</th>\n",
       "    </tr>\n",
       "  </thead>\n",
       "  <tbody>\n",
       "    <tr>\n",
       "      <th>0</th>\n",
       "      <td>[46 40 42 38 10]</td>\n",
       "      <td>[12 19 19 15  8]</td>\n",
       "      <td>40</td>\n",
       "      <td>[0. 1. 0. 0. 0.]</td>\n",
       "      <td>19.0</td>\n",
       "    </tr>\n",
       "    <tr>\n",
       "      <th>1</th>\n",
       "      <td>[11 31  4  6  7]</td>\n",
       "      <td>[ 2  8 18 16  3]</td>\n",
       "      <td>64</td>\n",
       "      <td>[1. 1. 1. 1. 1.]</td>\n",
       "      <td>47.0</td>\n",
       "    </tr>\n",
       "    <tr>\n",
       "      <th>2</th>\n",
       "      <td>[32 49 27 37 24]</td>\n",
       "      <td>[19 16 16  4  1]</td>\n",
       "      <td>87</td>\n",
       "      <td>[1. 0. 1. 0. 1.]</td>\n",
       "      <td>36.0</td>\n",
       "    </tr>\n",
       "    <tr>\n",
       "      <th>3</th>\n",
       "      <td>[20 35 22 23 16]</td>\n",
       "      <td>[19 17 19  9  1]</td>\n",
       "      <td>21</td>\n",
       "      <td>[1. 0. 0. 0. 0.]</td>\n",
       "      <td>19.0</td>\n",
       "    </tr>\n",
       "    <tr>\n",
       "      <th>4</th>\n",
       "      <td>[ 7 12 19 13 20]</td>\n",
       "      <td>[10 11 18 15  5]</td>\n",
       "      <td>50</td>\n",
       "      <td>[0. 1. 1. 1. 0.]</td>\n",
       "      <td>44.0</td>\n",
       "    </tr>\n",
       "    <tr>\n",
       "      <th>5</th>\n",
       "      <td>[27 10 25 25  7]</td>\n",
       "      <td>[13 19  7 16  3]</td>\n",
       "      <td>66</td>\n",
       "      <td>[1. 1. 0. 1. 0.]</td>\n",
       "      <td>48.0</td>\n",
       "    </tr>\n",
       "    <tr>\n",
       "      <th>6</th>\n",
       "      <td>[21  2 33 45 26]</td>\n",
       "      <td>[ 1 14 10  6 13]</td>\n",
       "      <td>80</td>\n",
       "      <td>[0. 1. 1. 0. 1.]</td>\n",
       "      <td>37.0</td>\n",
       "    </tr>\n",
       "    <tr>\n",
       "      <th>7</th>\n",
       "      <td>[37 27 39 14 25]</td>\n",
       "      <td>[18  7 15  4 13]</td>\n",
       "      <td>35</td>\n",
       "      <td>[0. 0. 0. 0. 1.]</td>\n",
       "      <td>13.0</td>\n",
       "    </tr>\n",
       "    <tr>\n",
       "      <th>8</th>\n",
       "      <td>[ 1 48  4 23 39]</td>\n",
       "      <td>[ 9  4 10 16 12]</td>\n",
       "      <td>51</td>\n",
       "      <td>[1. 0. 1. 1. 0.]</td>\n",
       "      <td>35.0</td>\n",
       "    </tr>\n",
       "    <tr>\n",
       "      <th>9</th>\n",
       "      <td>[ 4  3 22  9 32]</td>\n",
       "      <td>[14  6  3 17  8]</td>\n",
       "      <td>53</td>\n",
       "      <td>[1. 1. 0. 1. 1.]</td>\n",
       "      <td>45.0</td>\n",
       "    </tr>\n",
       "  </tbody>\n",
       "</table>\n",
       "</div>"
      ],
      "text/plain": [
       "            Weights            Prices  Capacity        Best picks  Best price\n",
       "0  [46 40 42 38 10]  [12 19 19 15  8]        40  [0. 1. 0. 0. 0.]        19.0\n",
       "1  [11 31  4  6  7]  [ 2  8 18 16  3]        64  [1. 1. 1. 1. 1.]        47.0\n",
       "2  [32 49 27 37 24]  [19 16 16  4  1]        87  [1. 0. 1. 0. 1.]        36.0\n",
       "3  [20 35 22 23 16]  [19 17 19  9  1]        21  [1. 0. 0. 0. 0.]        19.0\n",
       "4  [ 7 12 19 13 20]  [10 11 18 15  5]        50  [0. 1. 1. 1. 0.]        44.0\n",
       "5  [27 10 25 25  7]  [13 19  7 16  3]        66  [1. 1. 0. 1. 0.]        48.0\n",
       "6  [21  2 33 45 26]  [ 1 14 10  6 13]        80  [0. 1. 1. 0. 1.]        37.0\n",
       "7  [37 27 39 14 25]  [18  7 15  4 13]        35  [0. 0. 0. 0. 1.]        13.0\n",
       "8  [ 1 48  4 23 39]  [ 9  4 10 16 12]        51  [1. 0. 1. 1. 0.]        35.0\n",
       "9  [ 4  3 22  9 32]  [14  6  3 17  8]        53  [1. 1. 0. 1. 1.]        45.0"
      ]
     },
     "execution_count": 4,
     "metadata": {},
     "output_type": "execute_result"
    }
   ],
   "source": [
    "dataset.head(10)"
   ]
  },
  {
   "cell_type": "markdown",
   "metadata": {
    "id": "1dq9VpZh2r2A"
   },
   "source": [
    "**Preprocessing Step**\n",
    "\n",
    "Typically, the initial step in any project that involves reading and handling data is data preprocessing and cleansing.\n",
    "\n",
    "In our dataset, we expect the entries in the \"Weights,\" \"Prices,\" and \"Best Picks\" columns to be in the form of arrays of floats or integers, like this: [45, 40, 42, 38, 10]\n",
    "\n",
    "However, when you read each entry using pandas, they will be in a form of a string: \"[45 40 42 38 10]\"\n",
    "\n",
    "So we need to convert these strings into \"arrays of floats or integers.\" You can utilize the function provided below for this purpose:\n"
   ]
  },
  {
   "cell_type": "code",
   "execution_count": 5,
   "metadata": {
    "id": "BmUtgrBchaOz"
   },
   "outputs": [],
   "source": [
    "def string_to_list(string):\n",
    "\n",
    "  string_list = string.strip('[]').split()\n",
    "\n",
    "  float_list = [float(element) for element in string_list]\n",
    "\n",
    "  return float_list"
   ]
  },
  {
   "cell_type": "markdown",
   "metadata": {
    "id": "CP1nkMb27A4n"
   },
   "source": [
    "Furthermore, it's possible that certain rows in the dataset contain empty values in specific columns. We also aim to eliminate these rows as they do not provide any useful information. We use dropna() function to do so:"
   ]
  },
  {
   "cell_type": "code",
   "execution_count": 6,
   "metadata": {
    "id": "LT_iYgxhhaO0"
   },
   "outputs": [],
   "source": [
    "#Ignore the warning messages.\n",
    "\n",
    "dataset = dataset.dropna()\n",
    "\n",
    "dataset.Weights = dataset.Weights.apply(lambda x : string_to_list(x))\n",
    "dataset.Prices = dataset.Prices.apply(lambda x : string_to_list(x))\n",
    "dataset['Best picks'] = dataset['Best picks'].apply(lambda x : string_to_list(x))"
   ]
  },
  {
   "cell_type": "markdown",
   "metadata": {
    "id": "61go4NeA7gZU"
   },
   "source": [
    "Now it's time to implement the search algorithms. For each algorithm, a template is provided to you. You can modify this template if you want. But first you should try to go look at all the parameters used, as they are all important. You can also define any number of auxiliary functions you want.\n"
   ]
  },
  {
   "cell_type": "markdown",
   "metadata": {
    "id": "0ER3-7di7ufy"
   },
   "source": [
    "**4. Generate and Test**\n",
    "\n",
    "Just check everything. That'll do it!"
   ]
  },
  {
   "cell_type": "code",
   "execution_count": 7,
   "metadata": {
    "id": "FqN5dVe7haO0"
   },
   "outputs": [],
   "source": [
    "def gen_and_test(data):\n",
    "    # Dummy values, because the dummy solution hast -inf cost, it will be replaced as soon as any real data is processed\n",
    "    best_solution_price = 0\n",
    "    best_solution = None \n",
    "\n",
    "    # I'm using a binary counter, because I've been playing waaaaay too much Minecraft lately\n",
    "    # We'll start by giving each solution an \"id\"\n",
    "    for solution_id in range(2**len(data['Weights'])):\n",
    "        # Knapsacs are typically empty when there is nothing in them, hence, 0 price and 0 weight\n",
    "        solution_price = 0\n",
    "        solution_weight = 0\n",
    "        solution = [-1]*len(data['Weights'])\n",
    "\n",
    "        # Convert the solution \"id\" into its binary representation\n",
    "        for i in range(len(data['Weights'])):\n",
    "            solution[i] = solution_id // (2**i) % 2\n",
    "            \n",
    "            # Increase the price and weight if there is a 1 for the current bit\n",
    "            solution_price += solution[i]*data['Prices'][i]\n",
    "            solution_weight += solution[i]*data['Weights'][i]\n",
    "\n",
    "        # If this solution is better that the best we've seen so far (or if we haven't seen any yet), this is now the best solution we've seen\n",
    "        if solution_weight <= data['Capacity'] and solution_price > best_solution_price:\n",
    "            best_solution_price = solution_price\n",
    "            best_solution = solution\n",
    "\n",
    "    # There is a faster solution to the {0, 1}-knapsack problem using dynamic programming, but, I don't think such a solution is in the nature of the assignment \n",
    "    return best_solution_price, best_solution\n",
    "\n"
   ]
  },
  {
   "cell_type": "code",
   "execution_count": 8,
   "metadata": {
    "id": "xQyI_WRShaO0"
   },
   "outputs": [],
   "source": [
    "solutions = []\n",
    "for _, row in dataset.iterrows():\n",
    "    target = row['Best price']\n",
    "    solution, indexes = gen_and_test(row)\n",
    "    solutions.append(1 if target == solution else 0)\n"
   ]
  },
  {
   "cell_type": "code",
   "execution_count": 9,
   "metadata": {
    "id": "yodeAYV3haO0"
   },
   "outputs": [
    {
     "name": "stdout",
     "output_type": "stream",
     "text": [
      "Accuracy of best prices found is 1.0\n"
     ]
    }
   ],
   "source": [
    "# Accuracy\n",
    "print('Accuracy of best prices found is', np.mean(solutions))"
   ]
  },
  {
   "cell_type": "markdown",
   "metadata": {
    "id": "sgYGIJMd-atd"
   },
   "source": [
    "**Your Analysis:**\n",
    "\n",
    "Generate and test is extremely accurate. Unfortunatly, my algorithm here is extremely slow, as are the optimal generate and test algorithms for many problems "
   ]
  },
  {
   "cell_type": "markdown",
   "metadata": {
    "id": "5rQYdUQx-dGi"
   },
   "source": [
    "------------------------------------------------------------------------------------------------"
   ]
  },
  {
   "cell_type": "markdown",
   "metadata": {
    "id": "z8_ipXOGhaO1"
   },
   "source": [
    "**5. Greedy Search**\n",
    "\n",
    "Always take the most valuable items first"
   ]
  },
  {
   "cell_type": "code",
   "execution_count": 10,
   "metadata": {
    "id": "bAfwGLDkhaO2"
   },
   "outputs": [],
   "source": [
    "def greedy(data):\n",
    "    # We're only going to generate one solution here\n",
    "    best_solution_price = 0\n",
    "    best_solution_weight = 0\n",
    "    best_solution = [0]*len(data['Weights'])\n",
    "\n",
    "    # Lets be greedy for prices, because we can\n",
    "    shiny = 0\n",
    "    while shiny is not None:\n",
    "        # Before we look at any items, the best item we've seen is nothing\n",
    "        shiny = None\n",
    "        for i in range(len(data['Weights'])):\n",
    "            # If an item fits in our knapsack, isn't in our knapsack, and is better than we've seen so far, it is now the best we've seen this far\n",
    "            if data['Weights'][i] + best_solution_weight <= data['Capacity'] and best_solution[i] == 0 and ((shiny is None and data['Prices'][i] > 0) or data['Prices'][i] > data['Prices'][shiny]):\n",
    "                shiny = i\n",
    "\n",
    "        # Add the item to the knapsack\n",
    "        if shiny is not None:\n",
    "            best_solution_price += data['Prices'][shiny]\n",
    "            best_solution_weight += data['Weights'][shiny]\n",
    "            best_solution[shiny] = 1\n",
    "            \n",
    "    return best_solution_price, best_solution\n"
   ]
  },
  {
   "cell_type": "code",
   "execution_count": 11,
   "metadata": {
    "id": "QeS54aqAhwhU"
   },
   "outputs": [],
   "source": [
    "solutions_greedy = []\n",
    "for _, row in dataset.iterrows():\n",
    "    target = row['Best price']\n",
    "    solution, indexes = greedy(row)\n",
    "    solutions_greedy.append(1 if target == solution else 0)\n"
   ]
  },
  {
   "cell_type": "code",
   "execution_count": 12,
   "metadata": {
    "id": "xWqCDMs-h0SX"
   },
   "outputs": [
    {
     "name": "stdout",
     "output_type": "stream",
     "text": [
      "Greedy Accuracy is 0.9066707156594797\n"
     ]
    }
   ],
   "source": [
    "print(\"Greedy Accuracy is\", np.mean(solutions_greedy))"
   ]
  },
  {
   "cell_type": "markdown",
   "metadata": {
    "id": "0DKep6e5-nuz"
   },
   "source": [
    "**Your Analysis:**\n",
    "\n",
    "The greedy algorithm is very fast at generating a solution. However, this comes at the cost of accuracy. I though it was still shockingly accurate given how easy it is to confuse"
   ]
  },
  {
   "cell_type": "markdown",
   "metadata": {
    "id": "XGBWQqlK-lra"
   },
   "source": [
    "------------------------------------------------------------------------------------------------"
   ]
  },
  {
   "cell_type": "markdown",
   "metadata": {
    "id": "PtDW2ja3R93S"
   },
   "source": [
    "**6. Simulated Annealing**\n",
    "\n",
    "Check a few other solutions before blindly accepting greed as law"
   ]
  },
  {
   "cell_type": "code",
   "execution_count": 13,
   "metadata": {
    "id": "7rFhuXedSF_3"
   },
   "outputs": [],
   "source": [
    "# I didn't see these until afer i wrote the algorithm, whoops!\n",
    "import random\n",
    "import math\n",
    "\n",
    "\n",
    "def simulated_annealing(data, N, initial_temperature, cooling_rate):\n",
    "    # The initial candidate solution will be the greedy solution from before\n",
    "    best_solution_price, best_solution = greedy(data)\n",
    "    temperature = initial_temperature\n",
    "\n",
    "    for _ in range(N):\n",
    "        # generate a new solution by copying the old one and flipping a random bit 3 times (3 works better than 1 zero and 1 one for some reason)\n",
    "        solution = best_solution[:]\n",
    "        for i in range(3):\n",
    "            mutation = np.random.randint(len(solution))\n",
    "            solution[mutation] = 1 - solution[mutation]\n",
    "        solution_price = calculate_energy(solution, data)\n",
    "\n",
    "        if accept(best_solution_price-solution_price, temperature):\n",
    "            best_solution_price, best_solution = solution_price, solution\n",
    "\n",
    "        temperature *= cooling_rate\n",
    "\n",
    "    return best_solution_price, best_solution\n",
    "\n",
    "\n",
    "def accept(delta_E, T):\n",
    "    if delta_E < 0:\n",
    "        # if better, keep change\n",
    "        return True\n",
    "    else:\n",
    "        # if worse, sometimes keep change\n",
    "        if np.random.rand() < np.e**(-delta_E/T):\n",
    "            return True\n",
    "        else:\n",
    "            return False\n",
    "\n",
    "\n",
    "def calculate_energy(solution, data):\n",
    "    solution_price = 0\n",
    "    solution_weight = 0\n",
    "    \n",
    "    for i in range(len(solution)):\n",
    "        # Increase the price and weight if there is a 1 for the current bit\n",
    "        solution_price += solution[i]*data['Prices'][i]\n",
    "        solution_weight += solution[i]*data['Weights'][i]\n",
    "        \n",
    "    if solution_weight <= data['Capacity']:\n",
    "        return solution_price\n",
    "    else:\n",
    "        return 0"
   ]
  },
  {
   "cell_type": "code",
   "execution_count": 14,
   "metadata": {
    "id": "mAWQLNsESNIZ"
   },
   "outputs": [],
   "source": [
    "solutions_sa = []\n",
    "for _, row in dataset.iterrows():\n",
    "    target = row['Best price']\n",
    "    solution, indexes = simulated_annealing(row, N = 10, initial_temperature=1, cooling_rate=0.95)\n",
    "    solutions_sa.append(1 if target == solution else 0)\n"
   ]
  },
  {
   "cell_type": "code",
   "execution_count": 15,
   "metadata": {
    "id": "jUdWEABkhkih"
   },
   "outputs": [
    {
     "name": "stdout",
     "output_type": "stream",
     "text": [
      "Simulated Annealing Accuracy is 0.9157809494888146\n"
     ]
    }
   ],
   "source": [
    "print(\"Simulated Annealing Accuracy is\", np.mean(solutions_sa))"
   ]
  },
  {
   "cell_type": "markdown",
   "metadata": {
    "id": "PvvpYOOr-qqr"
   },
   "source": [
    "**Your Analysis:**\n",
    "\n",
    "Simulated annealing, or at least my implementaion of it here, is *slightly* better than a pure greedy search, however, than comes at the cost of doing a lot of redundant work. "
   ]
  },
  {
   "cell_type": "markdown",
   "metadata": {
    "id": "n0QXt7Ys-rCc"
   },
   "source": [
    "------------------------------------------------------------------------------------------------"
   ]
  },
  {
   "cell_type": "markdown",
   "metadata": {
    "id": "RHYjBUvVhtGV"
   },
   "source": [
    "**7. Genetic Algorithm**\n",
    "\n",
    "Give a description... Also, make sure that you put comments using your own words in the code to show that you understand the code that you are submitting."
   ]
  },
  {
   "cell_type": "code",
   "execution_count": 16,
   "metadata": {
    "id": "5kGKKUN8iP30"
   },
   "outputs": [],
   "source": [
    "import random\n",
    "\n",
    "def calculate_fitness(ind, prices, weights, capacity):\n",
    "    price = 0\n",
    "    weight = 0\n",
    "\n",
    "    # Tally the weight and price\n",
    "    for i in range(len(ind)):\n",
    "        price += ind[i]*prices[i]\n",
    "        weight += ind[i]*weights[i]\n",
    "\n",
    "    # Punish overdraft\n",
    "    fitness = price\n",
    "    if weight > capacity:\n",
    "        fitness = 0\n",
    "    \n",
    "    return fitness\n",
    "\n",
    "def crossover(parent1, parent2, cross_rate):\n",
    "    # start with a random parent\n",
    "    parent = random.randrange(2)\n",
    "    child = [-1]*len(parent1)\n",
    "\n",
    "    for i in range(len(child)):\n",
    "        # copy the current bit from the active parent\n",
    "        if parent%2 == 0:\n",
    "            child[i] = parent1[i]\n",
    "        else:\n",
    "            child[i] = parent2[i]\n",
    "\n",
    "        # change the active parent with probability cross_rate\n",
    "        if random.random() < cross_rate:\n",
    "            parent += 1\n",
    "\n",
    "    return child\n",
    "\n",
    "def mutation(child, mut_rate):\n",
    "    # flip bits with probability mut_rate\n",
    "    for i in range(len(child)):\n",
    "        if random.random() < mut_rate:\n",
    "            child[i] = 1-child[i]\n",
    "\n",
    "    return child\n",
    "\n",
    "\n",
    "def pick_best(bracket, prices, weights, capacity):\n",
    "    # No best if no check\n",
    "    best = None\n",
    "    best_price = float(\"-inf\")\n",
    "\n",
    "    # Grab the best\n",
    "    for gladiator in bracket:\n",
    "        if calculate_fitness(gladiator, prices, weights, capacity) > best_price:\n",
    "            best = gladiator\n",
    "            best_price = calculate_fitness(gladiator, prices, weights, capacity)\n",
    "\n",
    "    return best_price, best\n",
    "\n",
    "\n",
    "def genetic_algorithm(data, population_size, num_generations, mut_rate, cross_rate, tournament_size):   \n",
    "    population = []\n",
    "\n",
    "    # Populate the gene pool\n",
    "    for _ in range(population_size):\n",
    "        population.append([random.randrange(2) for _2 in range(len(data['Weights']))])\n",
    "\n",
    "    for _ in range(num_generations):\n",
    "        # Tournament\n",
    "        winners = []\n",
    "        for bracket in range(0, population_size, tournament_size):\n",
    "            _trash, population[bracket] = pick_best(population[bracket: bracket+tournament_size], data['Prices'], data['Weights'], data['Capacity'])\n",
    "            winners.append(population[bracket])\n",
    "\n",
    "        # Reproduction\n",
    "        for i in range(population_size):\n",
    "            if i % tournament_size != 0: # Don't replace the winners\n",
    "                population[i] = mutation(crossover(random.choice(winners), random.choice(winners), cross_rate), mut_rate)\n",
    "\n",
    "        random.shuffle(population)\n",
    "\n",
    "    return pick_best(population, data['Prices'], data['Weights'], data['Capacity']) # One last big tournament to get the best of the best"
   ]
  },
  {
   "cell_type": "code",
   "execution_count": 17,
   "metadata": {
    "id": "5b4hBtUijZzg"
   },
   "outputs": [],
   "source": [
    "solutions_ga = []\n",
    "for _, row in dataset.iterrows():\n",
    "    target = row['Best price']\n",
    "    solution, indexes = genetic_algorithm(row, population_size = 50, num_generations = 50, mut_rate = 0.1, cross_rate = 0.7, tournament_size = 5)\n",
    "    solutions_ga.append(1 if target == solution else 0)\n"
   ]
  },
  {
   "cell_type": "code",
   "execution_count": 18,
   "metadata": {
    "id": "hJ3ceIHSs-W-"
   },
   "outputs": [
    {
     "name": "stdout",
     "output_type": "stream",
     "text": [
      "Genetic Algorithm Accuracy is 0.9990889766170665\n"
     ]
    }
   ],
   "source": [
    "print(\"Genetic Algorithm Accuracy is\", np.mean(solutions_ga))"
   ]
  },
  {
   "cell_type": "markdown",
   "metadata": {
    "id": "5yn8KLah-xGF"
   },
   "source": [
    "**Your Analysis:**\n",
    "\n",
    "In most cases, the genetic algorithm provides an excellent way to try many solutions without trying all of them.\n",
    "\n",
    "In this case, however, the provided population and sample sizes are both greater that the solution space, which results in a lot of redundant work\n",
    "\n",
    "My solution is also failing 1 test case, but it takes 5 minutes to rerun, so I'm not fixing it"
   ]
  },
  {
   "cell_type": "markdown",
   "metadata": {
    "editable": true,
    "id": "ekb0LOgF-xUN",
    "slideshow": {
     "slide_type": ""
    },
    "tags": []
   },
   "source": [
    "------------------------------------------------------------------------------------------------"
   ]
  },
  {
   "cell_type": "markdown",
   "metadata": {
    "id": "NdO_H-4t-6mg"
   },
   "source": [
    "**8. Comparative Study**\n",
    "\n",
    "| Algorithm | Accuracy | Time |\r\n",
    "| --- | --- | --- \n",
    "| Generate and Test | 100% | O(e**n) | \n",
    "| Greedy Search | ~90% | O(n**2) |\n",
    "| Simulated Annealing | ~92% | O(n\\*\\*2 + n\\*N) |\n",
    "| Genetic Algoritm | ~100% | O(P\\*N\\*n) | |"
   ]
  },
  {
   "cell_type": "markdown",
   "metadata": {},
   "source": [
    "n = **n**umber of items\n",
    "\n",
    "N = **N**umber of iterations\n",
    "\n",
    "P = **P**opulation size"
   ]
  },
  {
   "cell_type": "markdown",
   "metadata": {
    "id": "4Ypp7TpkAIUe"
   },
   "source": [
    "--------------------------------------------------------------------------\n"
   ]
  },
  {
   "cell_type": "markdown",
   "metadata": {
    "id": "8Ikmq-si_23Y"
   },
   "source": [
    "**9. Conclusion**\n",
    "\n",
    "Generate and test is great on small datsets because of its high accuracy, but, alternatives are favourable as the complexity of the problem explodes.\n",
    "\n",
    "Greedy search is a fine solution if you need a quick result but don't necessarily need the best one.\n",
    "\n",
    "Simulated annealing is a good way to increase the accuracy of a greedy search at the cost of some time.\n",
    "\n",
    "The genetic algorithm is *usually* going to be a faster alternative to generate and test and becomes more useful as the complexity of the problem increases."
   ]
  },
  {
   "cell_type": "markdown",
   "metadata": {
    "id": "41s8gvCNABDy"
   },
   "source": [
    "--------------------------------------------------------------------------\n"
   ]
  },
  {
   "cell_type": "markdown",
   "metadata": {
    "id": "PtbOgI1q_9a0"
   },
   "source": [
    "**10 References**\n",
    "\n",
    "Sources:\n",
    " - Me, Owen Jory (hence why the code is bad)\n",
    " - The source code made available on BrightSpace"
   ]
  },
  {
   "cell_type": "markdown",
   "metadata": {
    "id": "zF9cuDJqF75q"
   },
   "source": [
    "**Hint:** To share a link to your colab notebook, click on \"share\" on the top right. Then, under *General access* , change *Restricted* to \"Anyone with the link\". (None of this is true)"
   ]
  }
 ],
 "metadata": {
  "colab": {
   "provenance": []
  },
  "kernelspec": {
   "display_name": "Python 3 (ipykernel)",
   "language": "python",
   "name": "python3"
  },
  "language_info": {
   "codemirror_mode": {
    "name": "ipython",
    "version": 3
   },
   "file_extension": ".py",
   "mimetype": "text/x-python",
   "name": "python",
   "nbconvert_exporter": "python",
   "pygments_lexer": "ipython3",
   "version": "3.9.13"
  }
 },
 "nbformat": 4,
 "nbformat_minor": 4
}
